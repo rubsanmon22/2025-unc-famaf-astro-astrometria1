{
 "cells": [
  {
   "cell_type": "code",
   "execution_count": 4,
   "id": "bcaa4548",
   "metadata": {
    "vscode": {
     "languageId": "sql"
    }
   },
   "outputs": [
    {
     "ename": "SyntaxError",
     "evalue": "invalid syntax (4055371753.py, line 1)",
     "output_type": "error",
     "traceback": [
      "  \u001b[36mCell\u001b[39m\u001b[36m \u001b[39m\u001b[32mIn[4]\u001b[39m\u001b[32m, line 1\u001b[39m\n\u001b[31m    \u001b[39m\u001b[31m-- Crear tabla Estrellas\u001b[39m\n             ^\n\u001b[31mSyntaxError\u001b[39m\u001b[31m:\u001b[39m invalid syntax\n"
     ]
    }
   ],
   "source": [
    "-- Crear tabla Estrellas\n",
    "CREATE TABLE Estrellas (\n",
    "    id_estrella INT PRIMARY KEY,\n",
    "    nombre VARCHAR(100),\n",
    "    tipo_espectral VARCHAR(10),\n",
    "    distancia_pc FLOAT,\n",
    "    magnitud FLOAT\n",
    ");\n",
    "\n",
    "-- Crear tabla Planetas\n",
    "CREATE TABLE Planetas (\n",
    "    id_planeta INT PRIMARY KEY,\n",
    "    id_estrella INT,\n",
    "    nombre VARCHAR(100),\n",
    "    masa FLOAT,\n",
    "    periodo_orbital FLOAT,\n",
    "    descubrimiento VARCHAR(50),\n",
    "    FOREIGN KEY (id_estrella) REFERENCES Estrellas(id_estrella)\n",
    ");"
   ]
  }
 ],
 "metadata": {
  "kernelspec": {
   "display_name": "astrometria",
   "language": "python",
   "name": "python3"
  },
  "language_info": {
   "codemirror_mode": {
    "name": "ipython",
    "version": 3
   },
   "file_extension": ".py",
   "mimetype": "text/x-python",
   "name": "python",
   "nbconvert_exporter": "python",
   "pygments_lexer": "ipython3",
   "version": "3.12.11"
  }
 },
 "nbformat": 4,
 "nbformat_minor": 5
}
