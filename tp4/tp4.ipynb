{
 "cells": [
  {
   "cell_type": "markdown",
   "id": "41af568a",
   "metadata": {},
   "source": [
    "## TRABAJO PRACTICO N°4: CADENA DE MARKOV"
   ]
  }
 ],
 "metadata": {
  "language_info": {
   "name": "python"
  }
 },
 "nbformat": 4,
 "nbformat_minor": 5
}
