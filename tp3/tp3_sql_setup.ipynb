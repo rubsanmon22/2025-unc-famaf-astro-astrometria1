{
 "cells": [
  {
   "cell_type": "markdown",
   "id": "5cc4b2f3",
   "metadata": {},
   "source": [
    "# TP3 Astrometría - Configuración de Base de Datos SQL\n",
    "\n",
    "Este notebook demuestra cómo configurar y ejecutar SQL en Jupyter con Python."
   ]
  },
  {
   "cell_type": "markdown",
   "id": "c6f84fec",
   "metadata": {},
   "source": [
    "## 1. Instalar Paquetes SQL Requeridos\n",
    "\n",
    "Para ejecutar SQL en tu kernel de Python, tienes **dos opciones principales**:"
   ]
  },
  {
   "cell_type": "code",
   "execution_count": 1,
   "id": "afa39e13",
   "metadata": {},
   "outputs": [
    {
     "name": "stdout",
     "output_type": "stream",
     "text": [
      "SQLite3 ya está disponible en Python por defecto\n",
      "Versión SQLite: 3.50.2\n"
     ]
    }
   ],
   "source": [
    "# OPCIÓN 1: Usar SQLite3 (YA INCLUIDO en Python, no necesitas instalar nada)\n",
    "import sqlite3\n",
    "print(\"SQLite3 ya está disponible en Python por defecto\")\n",
    "print(f\"Versión SQLite: {sqlite3.sqlite_version}\")"
   ]
  },
  {
   "cell_type": "code",
   "execution_count": 2,
   "id": "b1c154e3",
   "metadata": {},
   "outputs": [
    {
     "name": "stdout",
     "output_type": "stream",
     "text": [
      "Para usar comandos mágicos %%sql, ejecuta: pip install ipython-sql sqlalchemy\n"
     ]
    }
   ],
   "source": [
    "# OPCIÓN 2: Instalar ipython-sql para comandos mágicos %%sql (OPCIONAL)\n",
    "# Descomenta las siguientes líneas si quieres usar magic commands:\n",
    "\n",
    "# !pip install ipython-sql sqlalchemy\n",
    "print(\"Para usar comandos mágicos %%sql, ejecuta: pip install ipython-sql sqlalchemy\")"
   ]
  },
  {
   "cell_type": "markdown",
   "id": "370aaddf",
   "metadata": {},
   "source": [
    "## 2. Configurar Conexión a Base de Datos"
   ]
  },
  {
   "cell_type": "code",
   "execution_count": 3,
   "id": "8b82ba47",
   "metadata": {},
   "outputs": [
    {
     "name": "stdout",
     "output_type": "stream",
     "text": [
      "✓ Conexión establecida con la base de datos: tp3_astrometria.db\n",
      "✓ Base de datos ubicada en: /home/rubsanmon/Escritorio/facultad/4to/2c/astrometria1/2025-unc-famaf-astro-astrometria1/tp3/tp3_astrometria.db\n"
     ]
    }
   ],
   "source": [
    "import sqlite3\n",
    "import os\n",
    "\n",
    "# Crear conexión a base de datos SQLite\n",
    "db_path = 'tp3_astrometria.db'\n",
    "conn = sqlite3.connect(db_path)\n",
    "cursor = conn.cursor()\n",
    "\n",
    "print(f\"✓ Conexión establecida con la base de datos: {db_path}\")\n",
    "print(f\"✓ Base de datos ubicada en: {os.path.abspath(db_path)}\")"
   ]
  },
  {
   "cell_type": "markdown",
   "id": "82e457d5",
   "metadata": {},
   "source": [
    "## 3. Cargar Extensión SQL Magic (Opcional)\n",
    "\n",
    "Si instalaste `ipython-sql`, puedes usar comandos mágicos:"
   ]
  },
  {
   "cell_type": "code",
   "execution_count": 4,
   "id": "f4644e9e",
   "metadata": {},
   "outputs": [
    {
     "name": "stdout",
     "output_type": "stream",
     "text": [
      "Magic commands disponibles después de instalar ipython-sql:\n",
      "- %sql para líneas individuales\n",
      "- %%sql para celdas completas\n"
     ]
    }
   ],
   "source": [
    "# Si instalaste ipython-sql, descomenta estas líneas:\n",
    "# %load_ext sql\n",
    "# %sql sqlite:///tp3_astrometria.db\n",
    "\n",
    "print(\"Magic commands disponibles después de instalar ipython-sql:\")\n",
    "print(\"- %sql para líneas individuales\")\n",
    "print(\"- %%sql para celdas completas\")"
   ]
  },
  {
   "cell_type": "markdown",
   "id": "2a2874d6",
   "metadata": {},
   "source": [
    "## 4. Crear Tablas de Base de Datos"
   ]
  },
  {
   "cell_type": "code",
   "execution_count": 5,
   "id": "5ee1f6a2",
   "metadata": {},
   "outputs": [
    {
     "name": "stdout",
     "output_type": "stream",
     "text": [
      "✓ Tabla 'Estrellas' creada exitosamente\n"
     ]
    }
   ],
   "source": [
    "# Crear tabla Estrellas\n",
    "cursor.execute('''\n",
    "CREATE TABLE IF NOT EXISTS Estrellas (\n",
    "    id_estrella INTEGER PRIMARY KEY,\n",
    "    nombre TEXT NOT NULL,\n",
    "    tipo_espectral TEXT,\n",
    "    distancia_pc REAL,\n",
    "    magnitud REAL\n",
    ")\n",
    "''')\n",
    "\n",
    "print(\"✓ Tabla 'Estrellas' creada exitosamente\")"
   ]
  },
  {
   "cell_type": "code",
   "execution_count": 6,
   "id": "dcf8c407",
   "metadata": {},
   "outputs": [
    {
     "name": "stdout",
     "output_type": "stream",
     "text": [
      "✓ Tabla 'Planetas' creada exitosamente\n",
      "✓ Cambios guardados en la base de datos\n"
     ]
    }
   ],
   "source": [
    "# Crear tabla Planetas\n",
    "cursor.execute('''\n",
    "CREATE TABLE IF NOT EXISTS Planetas (\n",
    "    id_planeta INTEGER PRIMARY KEY,\n",
    "    id_estrella INTEGER,\n",
    "    nombre TEXT NOT NULL,\n",
    "    masa REAL,\n",
    "    periodo_orbital REAL,\n",
    "    descubrimiento TEXT,\n",
    "    FOREIGN KEY (id_estrella) REFERENCES Estrellas(id_estrella)\n",
    ")\n",
    "''')\n",
    "\n",
    "conn.commit()\n",
    "print(\"✓ Tabla 'Planetas' creada exitosamente\")\n",
    "print(\"✓ Cambios guardados en la base de datos\")"
   ]
  },
  {
   "cell_type": "markdown",
   "id": "709fad76",
   "metadata": {},
   "source": [
    "## 5. Insertar Datos de Muestra"
   ]
  },
  {
   "cell_type": "code",
   "execution_count": 7,
   "id": "5ec835cf",
   "metadata": {},
   "outputs": [
    {
     "name": "stdout",
     "output_type": "stream",
     "text": [
      "✓ 4 estrellas insertadas\n"
     ]
    }
   ],
   "source": [
    "# Insertar estrellas de ejemplo\n",
    "estrellas_ejemplo = [\n",
    "    (1, 'Sol', 'G2V', 0.000004848, -26.7),\n",
    "    (2, 'Proxima Centauri', 'M5.5Ve', 1.3, 11.13),\n",
    "    (3, 'Sirius A', 'A1V', 2.64, -1.46),\n",
    "    (4, 'Kepler-452', 'G2V', 430, 13.4)\n",
    "]\n",
    "\n",
    "cursor.executemany('''\n",
    "INSERT OR REPLACE INTO Estrellas \n",
    "(id_estrella, nombre, tipo_espectral, distancia_pc, magnitud)\n",
    "VALUES (?, ?, ?, ?, ?)\n",
    "''', estrellas_ejemplo)\n",
    "\n",
    "print(f\"✓ {len(estrellas_ejemplo)} estrellas insertadas\")"
   ]
  },
  {
   "cell_type": "code",
   "execution_count": 8,
   "id": "a01988fc",
   "metadata": {},
   "outputs": [
    {
     "name": "stdout",
     "output_type": "stream",
     "text": [
      "✓ 4 planetas insertados\n"
     ]
    }
   ],
   "source": [
    "# Insertar planetas de ejemplo\n",
    "planetas_ejemplo = [\n",
    "    (1, 1, 'Tierra', 1.0, 365.25, '1543 (Copérnico)'),\n",
    "    (2, 1, 'Marte', 0.107, 687, '1543 (Copérnico)'),\n",
    "    (3, 2, 'Proxima Centauri b', 1.17, 11.18, '2016'),\n",
    "    (4, 4, 'Kepler-452b', 5.0, 384.8, '2015')\n",
    "]\n",
    "\n",
    "cursor.executemany('''\n",
    "INSERT OR REPLACE INTO Planetas \n",
    "(id_planeta, id_estrella, nombre, masa, periodo_orbital, descubrimiento)\n",
    "VALUES (?, ?, ?, ?, ?, ?)\n",
    "''', planetas_ejemplo)\n",
    "\n",
    "conn.commit()\n",
    "print(f\"✓ {len(planetas_ejemplo)} planetas insertados\")"
   ]
  },
  {
   "cell_type": "markdown",
   "id": "c8c83e84",
   "metadata": {},
   "source": [
    "## 6. Ejecutar Consultas SQL"
   ]
  },
  {
   "cell_type": "code",
   "execution_count": 9,
   "id": "70da83b0",
   "metadata": {},
   "outputs": [
    {
     "name": "stdout",
     "output_type": "stream",
     "text": [
      "=== TODAS LAS ESTRELLAS ===\n",
      "ID: 1, Nombre: Sol, Tipo: G2V, Distancia: 4.848e-06 pc, Magnitud: -26.7\n",
      "ID: 2, Nombre: Proxima Centauri, Tipo: M5.5Ve, Distancia: 1.3 pc, Magnitud: 11.13\n",
      "ID: 3, Nombre: Sirius A, Tipo: A1V, Distancia: 2.64 pc, Magnitud: -1.46\n",
      "ID: 4, Nombre: Kepler-452, Tipo: G2V, Distancia: 430.0 pc, Magnitud: 13.4\n"
     ]
    }
   ],
   "source": [
    "# Consulta 1: Listar todas las estrellas\n",
    "print(\"=== TODAS LAS ESTRELLAS ===\")\n",
    "cursor.execute('SELECT * FROM Estrellas')\n",
    "estrellas = cursor.fetchall()\n",
    "\n",
    "for estrella in estrellas:\n",
    "    print(f\"ID: {estrella[0]}, Nombre: {estrella[1]}, Tipo: {estrella[2]}, Distancia: {estrella[3]} pc, Magnitud: {estrella[4]}\")"
   ]
  },
  {
   "cell_type": "code",
   "execution_count": 10,
   "id": "74e1b962",
   "metadata": {},
   "outputs": [
    {
     "name": "stdout",
     "output_type": "stream",
     "text": [
      "\n",
      "=== PLANETAS CON SUS ESTRELLAS ===\n",
      "Planeta: Tierra, Estrella: Sol, Masa: 1.0 M⊕, Período: 365.25 días, Descubrimiento: 1543 (Copérnico)\n",
      "Planeta: Marte, Estrella: Sol, Masa: 0.107 M⊕, Período: 687.0 días, Descubrimiento: 1543 (Copérnico)\n",
      "Planeta: Proxima Centauri b, Estrella: Proxima Centauri, Masa: 1.17 M⊕, Período: 11.18 días, Descubrimiento: 2016\n",
      "Planeta: Kepler-452b, Estrella: Kepler-452, Masa: 5.0 M⊕, Período: 384.8 días, Descubrimiento: 2015\n"
     ]
    }
   ],
   "source": [
    "# Consulta 2: Listar planetas con información de su estrella\n",
    "print(\"\\n=== PLANETAS CON SUS ESTRELLAS ===\")\n",
    "cursor.execute('''\n",
    "SELECT p.nombre as planeta, e.nombre as estrella, p.masa, p.periodo_orbital, p.descubrimiento\n",
    "FROM Planetas p\n",
    "JOIN Estrellas e ON p.id_estrella = e.id_estrella\n",
    "''')\n",
    "\n",
    "planetas = cursor.fetchall()\n",
    "for planeta in planetas:\n",
    "    print(f\"Planeta: {planeta[0]}, Estrella: {planeta[1]}, Masa: {planeta[2]} M⊕, Período: {planeta[3]} días, Descubrimiento: {planeta[4]}\")"
   ]
  },
  {
   "cell_type": "code",
   "execution_count": 11,
   "id": "046294f9",
   "metadata": {},
   "outputs": [
    {
     "name": "stdout",
     "output_type": "stream",
     "text": [
      "\n",
      "=== ESTRELLAS CERCANAS (<10 pc) ===\n",
      "Sol: 4.848e-06 pc, magnitud -26.7\n",
      "Proxima Centauri: 1.3 pc, magnitud 11.13\n",
      "Sirius A: 2.64 pc, magnitud -1.46\n"
     ]
    }
   ],
   "source": [
    "# Consulta 3: Estrellas más cercanas (menos de 10 parsecs)\n",
    "print(\"\\n=== ESTRELLAS CERCANAS (<10 pc) ===\")\n",
    "cursor.execute('''\n",
    "SELECT nombre, distancia_pc, magnitud \n",
    "FROM Estrellas \n",
    "WHERE distancia_pc < 10 \n",
    "ORDER BY distancia_pc\n",
    "''')\n",
    "\n",
    "cercanas = cursor.fetchall()\n",
    "for estrella in cercanas:\n",
    "    print(f\"{estrella[0]}: {estrella[1]} pc, magnitud {estrella[2]}\")"
   ]
  },
  {
   "cell_type": "markdown",
   "id": "186f87a1",
   "metadata": {},
   "source": [
    "## 7. Verificar Configuración de Base de Datos"
   ]
  },
  {
   "cell_type": "code",
   "execution_count": 12,
   "id": "7e5e2e02",
   "metadata": {},
   "outputs": [
    {
     "name": "stdout",
     "output_type": "stream",
     "text": [
      "=== ESTRUCTURA DE LA BASE DE DATOS ===\n",
      "Tablas en la base de datos: ['Estrellas', 'Planetas']\n",
      "\n",
      "--- Estructura de Estrellas ---\n",
      "  id_estrella (INTEGER) - PK: True - NotNull: False\n",
      "  nombre (TEXT) - PK: False - NotNull: True\n",
      "  tipo_espectral (TEXT) - PK: False - NotNull: False\n",
      "  distancia_pc (REAL) - PK: False - NotNull: False\n",
      "  magnitud (REAL) - PK: False - NotNull: False\n",
      "\n",
      "--- Estructura de Planetas ---\n",
      "  id_planeta (INTEGER) - PK: True - NotNull: False\n",
      "  id_estrella (INTEGER) - PK: False - NotNull: False\n",
      "  nombre (TEXT) - PK: False - NotNull: True\n",
      "  masa (REAL) - PK: False - NotNull: False\n",
      "  periodo_orbital (REAL) - PK: False - NotNull: False\n",
      "  descubrimiento (TEXT) - PK: False - NotNull: False\n"
     ]
    }
   ],
   "source": [
    "# Verificar estructura de las tablas\n",
    "print(\"=== ESTRUCTURA DE LA BASE DE DATOS ===\")\n",
    "\n",
    "# Listar todas las tablas\n",
    "cursor.execute(\"SELECT name FROM sqlite_master WHERE type='table';\")\n",
    "tablas = cursor.fetchall()\n",
    "print(f\"Tablas en la base de datos: {[tabla[0] for tabla in tablas]}\")\n",
    "\n",
    "# Verificar estructura de cada tabla\n",
    "for tabla in tablas:\n",
    "    nombre_tabla = tabla[0]\n",
    "    print(f\"\\n--- Estructura de {nombre_tabla} ---\")\n",
    "    cursor.execute(f\"PRAGMA table_info({nombre_tabla})\")\n",
    "    columnas = cursor.fetchall()\n",
    "    for col in columnas:\n",
    "        print(f\"  {col[1]} ({col[2]}) - PK: {bool(col[5])} - NotNull: {bool(col[3])}\")"
   ]
  },
  {
   "cell_type": "code",
   "execution_count": 13,
   "id": "c408728a",
   "metadata": {},
   "outputs": [
    {
     "name": "stdout",
     "output_type": "stream",
     "text": [
      "\n",
      "=== CONTEO DE REGISTROS ===\n",
      "Estrellas: 4 registros\n",
      "Planetas: 4 registros\n",
      "\n",
      "✓ Base de datos configurada y funcionando correctamente\n"
     ]
    }
   ],
   "source": [
    "# Contar registros en cada tabla\n",
    "print(\"\\n=== CONTEO DE REGISTROS ===\")\n",
    "\n",
    "cursor.execute('SELECT COUNT(*) FROM Estrellas')\n",
    "count_estrellas = cursor.fetchone()[0]\n",
    "print(f\"Estrellas: {count_estrellas} registros\")\n",
    "\n",
    "cursor.execute('SELECT COUNT(*) FROM Planetas')\n",
    "count_planetas = cursor.fetchone()[0]\n",
    "print(f\"Planetas: {count_planetas} registros\")\n",
    "\n",
    "print(\"\\n✓ Base de datos configurada y funcionando correctamente\")"
   ]
  },
  {
   "cell_type": "code",
   "execution_count": 14,
   "id": "4e8e6c05",
   "metadata": {},
   "outputs": [
    {
     "name": "stdout",
     "output_type": "stream",
     "text": [
      "✓ Conexión a base de datos cerrada\n",
      "\n",
      "🎉 ¡Configuración completada!\n",
      "\n",
      "Tu base de datos está lista. Puedes usar:\n",
      "1. sqlite3 (incluido en Python) - para SQL básico\n",
      "2. ipython-sql (opcional) - para comandos mágicos %%sql\n",
      "3. pandas + sqlite3 - para análisis de datos\n"
     ]
    }
   ],
   "source": [
    "# Cerrar la conexión\n",
    "conn.close()\n",
    "print(\"✓ Conexión a base de datos cerrada\")\n",
    "\n",
    "print(\"\\n🎉 ¡Configuración completada!\")\n",
    "print(\"\\nTu base de datos está lista. Puedes usar:\")\n",
    "print(\"1. sqlite3 (incluido en Python) - para SQL básico\")\n",
    "print(\"2. ipython-sql (opcional) - para comandos mágicos %%sql\")\n",
    "print(\"3. pandas + sqlite3 - para análisis de datos\")"
   ]
  }
 ],
 "metadata": {
  "kernelspec": {
   "display_name": "astrometria",
   "language": "python",
   "name": "python3"
  },
  "language_info": {
   "codemirror_mode": {
    "name": "ipython",
    "version": 3
   },
   "file_extension": ".py",
   "mimetype": "text/x-python",
   "name": "python",
   "nbconvert_exporter": "python",
   "pygments_lexer": "ipython3",
   "version": "3.12.11"
  }
 },
 "nbformat": 4,
 "nbformat_minor": 5
}
