{
 "cells": [
  {
   "cell_type": "markdown",
   "id": "230d9058",
   "metadata": {},
   "source": [
    "<center><img src=\"salta.png\" alt=\"En escencia, yo.\" width=\"500\"></center>\n",
    "\n",
    "\n",
    "# <center>  ASTROMETRÍA I - **VÍCTOR RUBÉN SANDEZ** \n",
    "\n",
    "## **Profesores**: Mariano Dominguez - Mario Agustín Sgró\n",
    "## **Ayudante Alumno**: Román Ciro Martín\n",
    "\n",
    "### <center> **TRABAJO PRÁCTICO N°1** : _Probabilidad y generación de números aleatorios_\n",
    "\n",
    "\n",
    "\n",
    "#### Este notebook será el paso a paso de como se fueron resolviendo los distintos ejercicios realizados durante el práctico de la asignatura **Astrometría I** de la carrera *_Licenciatura en Astronomía_* de la Facultad de Matemáticas, Astronomía, Física  y Computación de la Universidad Nacional de Córdoba.\n",
    "\n",
    "#### Sobre todo, funcionará como bitácora de trabajo, que luego será volcada en un informe escrito a presentar para su posteriro evaluación.\n",
    "\n",
    "### Objetivos:\n",
    "- #### Implementar generadores de números aleatorios\n",
    "- #### Analizar propiedades estadísticas de secuencias generadas\n",
    "- #### Resolver problemas de probabilidad mediante simulaciones\n",
    "- #### Aplicar conceptos estadísticos en contextos astronómicos\n",
    "\n",
    "#### **ADVERTENCIA**: Mucho de este trabajo está claramente hecho con ayuda de un LLM"
   ]
  },
  {
   "cell_type": "markdown",
   "id": "e5af8771",
   "metadata": {},
   "source": [
    "## Introducción: ¿Por qúe numeros aleatorios?\n",
    "\n",
    "#### La generación de números aleatorios y el estudio de métodos probabilísticos constituyen pilares fundamentales en la astroestadística moderna. En un campo donde los fenómenos observados son intrínsecamente estocásticos y donde los experimentos controlados son imposibles de realizar, la capacidad de simular procesos astronómicos mediante números aleatorios se convierte en una herramienta indispensable.\n",
    "\n",
    "#### El dominio de estas técnicas no es meramente académico; constituye una habilidad práctica esencial para cualquier astrofísico moderno. La capacidad de generar, validar y utilizar secuencias aleatorias de alta calidad diferencia entre resultados científicos robustos y conclusiones potencialmente erróneas. Este estudio sienta las bases para métodos computacionales más avanzados que son estándar en la investigación astronómica contemporánea.\n"
   ]
  },
  {
   "cell_type": "markdown",
   "id": "13521786",
   "metadata": {},
   "source": [
    "\n",
    "## Python: El Lenguaje de la Astronomía Contemporánea\n",
    "\n",
    "#### La revolución computacional en astronomía ha encontrado en Python su plataforma por defecto para desarrollarse. La elección de Python como lenguaje principal para estos ejercicios no es arbitraria sino que responde a razones pragmáticas que lo han convertido en el estándar de facto en la investigación astronómica mundial. Mucha gente cuestiona al dia de hoy esta decisión colectiva, proponiendo alternativas que poco satisfacen las necesidades de los usuarios investigadores.\n",
    "\n",
    "## Ventajas Estratégicas de Python\n",
    "\n",
    "### A lo largo de los años la comunidad de usuarios de Python a generado un ecosistema para el desarrollo de la ciencia sin precedentes, y es por eso que su uso se ha extendido tanto. La generación de _librerias_ de uso público han facilitado el trabajo de todos.\n",
    "\n",
    "### Python ofrece un ecosistema incomparable para cálculo científico como, por ejemplo:\n",
    "\n",
    "    NumPy: Operaciones vectorizadas eficientes con arrays multidimensionales\n",
    "\n",
    "    SciPy: Algoritmos matemáticos avanzados y optimizados\n",
    "\n",
    "    Matplotlib/Seaborn: Visualización científica de alta calidad\n",
    "\n",
    "    Astropy: Librería específicamente diseñada para astronomía\n",
    "\n",
    "### Entre otras muchas cosas podemos decir que, Python ha democratizado el acceso a herramientas computacionales avanzadas que antes estaban reservadas para especialistas en computación. Hoy, cualquier astrónomo puede implementar algoritmos complejos, analizar terabytes de datos y realizar simulaciones sofisticadas gracias a este ecosistema.\n",
    "\n",
    "### Esta combinación de poder computacional, accesibilidad y robustez estadística hace de Python la elección ideal para formar a la próxima generación de astrofísicos computacionales.\n",
    "\n"
   ]
  },
  {
   "cell_type": "code",
   "execution_count": 8,
   "id": "f59f85a0",
   "metadata": {},
   "outputs": [],
   "source": [
    "# En el siguiente código se importan las librerías necesarias para el\n",
    "# análisis de datos y la visualización.\n",
    "# Dichos paquetes incluyen herramientas para manipulación de datos, \n",
    "# cálculos numéricos, gráficos y visualización avanzada.\n",
    "\n",
    "# En esta ocasión solo se importan las librerias utiles para el desarrollo del practico 1 de astrometria 1\n",
    "\n",
    "import numpy as np\n",
    "import matplotlib.pyplot as plt\n",
    "import seaborn as sns\n"
   ]
  },
  {
   "cell_type": "markdown",
   "id": "5e007ed9",
   "metadata": {},
   "source": [
    "## Generación de Números Aleatorios Uniformes\n",
    "\n",
    "### El Ejercicio 18 nos introduce en el corazón de la generación de números pseudoaleatorios mediante el método de congruencia lineal, uno de los algoritmos más fundamentales en la historia de la simulación computacional. Este ejercicio no solo tiene valor histórico, sino que sienta las bases para entender cómo las computadoras generan \"aleatoriedad\" controlada.\n",
    "\n",
    "### La importancia de este algoritmo radica en la necesidad de simular distribuciones, generar catalogos sintéticos, realizar integraciones Monte Carlo, crear muestras de control para experimentos, etc.\n",
    "\n",
    "<center><img src=\"p1_e18.png\" alt=\"Practico 1 - Ejercicio 18\" width=\"900\"></center>"
   ]
  },
  {
   "cell_type": "code",
   "execution_count": 11,
   "id": "dfcbac41",
   "metadata": {},
   "outputs": [
    {
     "ename": "SyntaxError",
     "evalue": "invalid syntax (26457656.py, line 1)",
     "output_type": "error",
     "traceback": [
      "\u001b[0;36m  Cell \u001b[0;32mIn[11], line 1\u001b[0;36m\u001b[0m\n\u001b[0;31m    class\u001b[0m\n\u001b[0m         ^\u001b[0m\n\u001b[0;31mSyntaxError\u001b[0m\u001b[0;31m:\u001b[0m invalid syntax\n"
     ]
    }
   ],
   "source": [
    "class\n"
   ]
  }
 ],
 "metadata": {
  "kernelspec": {
   "display_name": "base",
   "language": "python",
   "name": "python3"
  },
  "language_info": {
   "codemirror_mode": {
    "name": "ipython",
    "version": 3
   },
   "file_extension": ".py",
   "mimetype": "text/x-python",
   "name": "python",
   "nbconvert_exporter": "python",
   "pygments_lexer": "ipython3",
   "version": "3.12.4"
  }
 },
 "nbformat": 4,
 "nbformat_minor": 5
}
